{
 "cells": [
  {
   "cell_type": "code",
   "execution_count": 1,
   "id": "5ea08d22",
   "metadata": {},
   "outputs": [
    {
     "name": "stdout",
     "output_type": "stream",
     "text": [
      "Maximum value: 760000\n",
      "Minimum value: 5000\n"
     ]
    }
   ],
   "source": [
    "##   What is the range of selling prices in the dataset\n",
    "\n",
    "\n",
    "import pandas as pd\n",
    "\n",
    "# Assuming your data is in a pandas DataFrame called 'df' \n",
    "# and the column you're interested in is called 'column_name'\n",
    "df=pd.read_csv(\"BIKE_DETAILS.csv\")\n",
    "\n",
    "# Find the maximum value in the column\n",
    "max_value = df['selling_price'].max()\n",
    "\n",
    "# Find the minimum value in the column\n",
    "min_value = df['selling_price'].min()\n",
    "\n",
    "print(f\"Maximum value: {max_value}\")\n",
    "print(f\"Minimum value: {min_value}\")"
   ]
  },
  {
   "cell_type": "code",
   "execution_count": 2,
   "id": "e63ce817",
   "metadata": {},
   "outputs": [
    {
     "name": "stdout",
     "output_type": "stream",
     "text": [
      "Median of column 'selling_price': 45000.0\n"
     ]
    }
   ],
   "source": [
    "## What is the median selling price for bikes in the dataset\n",
    "\n",
    "\n",
    "import pandas as pd\n",
    "\n",
    "# Assuming your data is in a pandas DataFrame called 'df' \n",
    "# and the column you're interested in is called 'column_name'\n",
    "df=pd.read_csv(\"BIKE_DETAILS.csv\")\n",
    "# Find the median of the column\n",
    "column_median = df['selling_price'].median()\n",
    "\n",
    "print(f\"Median of column '{'selling_price'}': {column_median}\")"
   ]
  },
  {
   "cell_type": "code",
   "execution_count": 3,
   "id": "fa51563d",
   "metadata": {},
   "outputs": [
    {
     "name": "stdout",
     "output_type": "stream",
     "text": [
      "Most frequent word: Individual, Count: 1055\n"
     ]
    }
   ],
   "source": [
    "##  What is the most common seller type\n",
    "\n",
    "import pandas as pd\n",
    "from collections import Counter\n",
    "\n",
    "# Assuming your DataFrame is already loaded \n",
    "df = pd.read_csv(\"BIKE_DETAILS.csv\") \n",
    "\n",
    "# Extract the text column\n",
    "text_column = df['seller_type'] \n",
    "\n",
    "# Flatten the list of strings into a single list of words\n",
    "all_words = ' '.join(text_column).split() \n",
    "\n",
    "# Count the occurrences of each word\n",
    "word_counts = Counter(all_words)\n",
    "\n",
    "# Find the most frequent word\n",
    "most_frequent_word, count = word_counts.most_common(1)[0]\n",
    "\n",
    "print(f\"Most frequent word: {most_frequent_word}, Count: {count}\")"
   ]
  },
  {
   "cell_type": "code",
   "execution_count": 4,
   "id": "9c420aa6",
   "metadata": {},
   "outputs": [
    {
     "name": "stdout",
     "output_type": "stream",
     "text": [
      "Number of values greater than 50000: 170\n"
     ]
    }
   ],
   "source": [
    "##  How many bikes have driven more than 50,000 kilometers\n",
    "\n",
    "import pandas as pd\n",
    "df = pd.read_csv(\"BIKE_DETAILS.csv\")\n",
    "\n",
    "\n",
    "count= len(df[df['km_driven'] > 50000])\n",
    "\n",
    "print(f\"Number of values greater than 50000: {count}\")"
   ]
  },
  {
   "cell_type": "code",
   "execution_count": null,
   "id": "29c5af55",
   "metadata": {},
   "outputs": [],
   "source": []
  }
 ],
 "metadata": {
  "kernelspec": {
   "display_name": "Python 3 (ipykernel)",
   "language": "python",
   "name": "python3"
  },
  "language_info": {
   "codemirror_mode": {
    "name": "ipython",
    "version": 3
   },
   "file_extension": ".py",
   "mimetype": "text/x-python",
   "name": "python",
   "nbconvert_exporter": "python",
   "pygments_lexer": "ipython3",
   "version": "3.10.9"
  }
 },
 "nbformat": 4,
 "nbformat_minor": 5
}
